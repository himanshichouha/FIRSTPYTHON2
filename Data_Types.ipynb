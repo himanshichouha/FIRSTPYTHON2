{
  "nbformat": 4,
  "nbformat_minor": 0,
  "metadata": {
    "colab": {
      "provenance": []
    },
    "kernelspec": {
      "name": "python3",
      "display_name": "Python 3"
    },
    "language_info": {
      "name": "python"
    }
  },
  "cells": [
    {
      "cell_type": "markdown",
      "source": [],
      "metadata": {
        "id": "WUEbcQKcuNoA"
      }
    },
    {
      "cell_type": "code",
      "execution_count": null,
      "metadata": {
        "id": "lEJDHYomuC3T"
      },
      "outputs": [],
      "source": [
        "Data types in python"
      ]
    },
    {
      "cell_type": "markdown",
      "source": [
        "\n",
        "\n",
        "*   Int\n",
        "*   String\n",
        "*   float\n",
        "*   Boolean\n",
        "*   List\n",
        "*   tuple\n",
        "*   Set\n",
        "*   dictionary\n",
        "\n",
        "\n",
        "\n",
        "\n",
        "\n",
        "\n",
        "\n"
      ],
      "metadata": {
        "id": "qkHZAXNkuUDg"
      }
    },
    {
      "cell_type": "markdown",
      "source": [],
      "metadata": {
        "id": "IV0QBOZrwxjc"
      }
    },
    {
      "cell_type": "markdown",
      "source": [
        "Int: that is use to store numer value"
      ],
      "metadata": {
        "id": "kK69SUfJwUCR"
      }
    },
    {
      "cell_type": "code",
      "source": [
        "# Example\n",
        "var1= 123\n",
        "type(var1)"
      ],
      "metadata": {
        "colab": {
          "base_uri": "https://localhost:8080/"
        },
        "id": "dqq60Hh3xHYm",
        "outputId": "083e5289-c609-4d37-a090-3d2d5cb789f6"
      },
      "execution_count": 6,
      "outputs": [
        {
          "output_type": "execute_result",
          "data": {
            "text/plain": [
              "int"
            ]
          },
          "metadata": {},
          "execution_count": 6
        }
      ]
    },
    {
      "cell_type": "markdown",
      "source": [
        "float: it is use to store decimal value"
      ],
      "metadata": {
        "id": "aPXa4N1jx5g7"
      }
    },
    {
      "cell_type": "code",
      "source": [
        "#Example\n",
        "var2= 12.45\n",
        "type(var2)"
      ],
      "metadata": {
        "colab": {
          "base_uri": "https://localhost:8080/"
        },
        "id": "Qcj0d1kyyLUo",
        "outputId": "f0a869d5-1b41-4b5f-93bf-2a2563ed0346"
      },
      "execution_count": 7,
      "outputs": [
        {
          "output_type": "execute_result",
          "data": {
            "text/plain": [
              "float"
            ]
          },
          "metadata": {},
          "execution_count": 7
        }
      ]
    },
    {
      "cell_type": "markdown",
      "source": [
        "String: it is use to store text value"
      ],
      "metadata": {
        "id": "L1XU5aMWycxG"
      }
    },
    {
      "cell_type": "code",
      "source": [
        "# Example\n",
        "var3= \"hello\"\n",
        "type(var3)"
      ],
      "metadata": {
        "colab": {
          "base_uri": "https://localhost:8080/"
        },
        "id": "YssjrHDozJbD",
        "outputId": "39b18a82-0ed7-438f-d9c8-73b92a915183"
      },
      "execution_count": 12,
      "outputs": [
        {
          "output_type": "execute_result",
          "data": {
            "text/plain": [
              "str"
            ]
          },
          "metadata": {},
          "execution_count": 12
        }
      ]
    },
    {
      "cell_type": "markdown",
      "source": [
        "Boolean: it is use to store logical value like 'true or false'"
      ],
      "metadata": {
        "id": "2M6vWuJl0isR"
      }
    },
    {
      "cell_type": "code",
      "source": [
        "#Example\n",
        "var4=True\n",
        "type(var4)"
      ],
      "metadata": {
        "colab": {
          "base_uri": "https://localhost:8080/"
        },
        "id": "HLdkaZxf1u4Y",
        "outputId": "b20644b0-b05b-44b5-ee1d-d5f1ca78f365"
      },
      "execution_count": 13,
      "outputs": [
        {
          "output_type": "execute_result",
          "data": {
            "text/plain": [
              "bool"
            ]
          },
          "metadata": {},
          "execution_count": 13
        }
      ]
    },
    {
      "cell_type": "markdown",
      "source": [
        "List: it is use to store all type value like'number,text,decimal value,charter,etc'"
      ],
      "metadata": {
        "id": "h2R_N3sM2Bu_"
      }
    },
    {
      "cell_type": "code",
      "source": [
        "#example\n",
        "var5=['ram,sham,123,,ram13']\n",
        "type(var5)"
      ],
      "metadata": {
        "colab": {
          "base_uri": "https://localhost:8080/"
        },
        "id": "AKPf-v8W3BA6",
        "outputId": "23ab8453-332c-4d96-d912-f5f6ae128c22"
      },
      "execution_count": 18,
      "outputs": [
        {
          "output_type": "execute_result",
          "data": {
            "text/plain": [
              "list"
            ]
          },
          "metadata": {},
          "execution_count": 18
        }
      ]
    },
    {
      "cell_type": "markdown",
      "source": [
        "tuple:it is use to store immutable value"
      ],
      "metadata": {
        "id": "4w_NPFmT4mzN"
      }
    },
    {
      "cell_type": "code",
      "source": [
        "#example\n",
        "var6=(\"ram,shayam , true\",12,13)\n",
        "type(var6)"
      ],
      "metadata": {
        "colab": {
          "base_uri": "https://localhost:8080/"
        },
        "id": "_4E9GVyo50lH",
        "outputId": "33219f10-72b4-40a8-c6f5-cfa92c96cf73"
      },
      "execution_count": 22,
      "outputs": [
        {
          "output_type": "execute_result",
          "data": {
            "text/plain": [
              "tuple"
            ]
          },
          "metadata": {},
          "execution_count": 22
        }
      ]
    },
    {
      "cell_type": "markdown",
      "source": [
        "Set=it is use to several items in single variable.it is use curly bracket."
      ],
      "metadata": {
        "id": "AaLuYuuN6RCE"
      }
    },
    {
      "cell_type": "code",
      "source": [
        "#Example\n",
        "var7={12,13,89,60}\n",
        "type(var7)"
      ],
      "metadata": {
        "colab": {
          "base_uri": "https://localhost:8080/"
        },
        "id": "eCnvep_h7Wu4",
        "outputId": "669c6298-fd4c-4f23-e504-247a4da39ac4"
      },
      "execution_count": 23,
      "outputs": [
        {
          "output_type": "execute_result",
          "data": {
            "text/plain": [
              "set"
            ]
          },
          "metadata": {},
          "execution_count": 23
        }
      ]
    },
    {
      "cell_type": "markdown",
      "source": [
        "dictionary: it is store mutable data structures in key-value pairs"
      ],
      "metadata": {
        "id": "9oTR7Y7N8NnI"
      }
    },
    {
      "cell_type": "code",
      "source": [
        "#example\n",
        "var8={'name':'ram', 'age':'12', 'class':'6'}\n",
        "type(var8)"
      ],
      "metadata": {
        "colab": {
          "base_uri": "https://localhost:8080/"
        },
        "id": "wwAU_OxA9NGi",
        "outputId": "f956333e-bce4-4c6b-8a12-9c8f325efb8c"
      },
      "execution_count": 29,
      "outputs": [
        {
          "output_type": "execute_result",
          "data": {
            "text/plain": [
              "dict"
            ]
          },
          "metadata": {},
          "execution_count": 29
        }
      ]
    },
    {
      "cell_type": "code",
      "source": [],
      "metadata": {
        "id": "Rw3Cpn7u4mXU"
      },
      "execution_count": null,
      "outputs": []
    },
    {
      "cell_type": "code",
      "source": [],
      "metadata": {
        "id": "L9ir6EJv4hJk"
      },
      "execution_count": null,
      "outputs": []
    },
    {
      "cell_type": "markdown",
      "source": [],
      "metadata": {
        "id": "zJ2yWfl14V3l"
      }
    },
    {
      "cell_type": "markdown",
      "source": [
        "\n",
        "\n"
      ],
      "metadata": {
        "id": "W2c3hkQtw96f"
      }
    }
  ]
}